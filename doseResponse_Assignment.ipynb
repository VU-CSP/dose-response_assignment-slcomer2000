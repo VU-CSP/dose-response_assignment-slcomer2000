{
 "cells": [
  {
   "cell_type": "markdown",
   "metadata": {
    "id": "mPYU3pRE6j5s"
   },
   "source": [
    "# Dose–Response Relationships  \n",
    "\n",
    "You will need to edit the file Quiz.md to get autograded for this assignment.  \n",
    "\n",
    "The first part of the assignment will have you performing analysis on Vanderbilt's Thunor instance.  \n",
    "\n",
    "You can access the plots for afatinib treatment using DIP rate or viability at 72 h by following [this link](https://thunor.app.vanderbilt.edu/plots?dataset=13&colsLg=3&colsMd=2&plotdata=plotType%3Ddrc%26datasetId%3D13%26dataset2Id%3D%26useCellLineTags%3Doff%26c%3D8%26c%3D9%26c%3D10%26c%3D11%26c%3D12%26c%3D17%26c%3D18%26useDrugTags%3Doff%26d%3D5%26colorBy%3Doff%26drMetric%3Ddip%26drcType%3Drel&plotdata=plotType%3Ddrc%26datasetId%3D13%26dataset2Id%3D%26useCellLineTags%3Doff%26c%3D8%26c%3D9%26c%3D10%26c%3D11%26c%3D12%26c%3D17%26c%3D18%26useDrugTags%3Doff%26d%3D5%26colorBy%3Doff%26drMetric%3Dviability%26drcType%3Drel)  \n",
    "\n",
    "Then you can add new plots as needed to answer the questions in the Quiz.md. You must modify the Quiz.md file to get your grade (either modify the file directly on GitHub or upload to your assignment repository.)  \n"
   ]
  },
  {
   "cell_type": "markdown",
   "metadata": {
    "id": "--7S3yToJ858"
   },
   "source": [
    "You can learn more about Thunor web and how to use it in [this tutorial](https://youtu.be/q4LQCjuBnmg).  \n"
   ]
  },
  {
   "cell_type": "markdown",
   "metadata": {
    "id": "rk7tOb4O6j5t"
   },
   "source": [
    "## Assignment\n",
    "\n",
    "Task 1) \n",
    "Got to [thunor.app.vanderbilt.edu](https://thunor.app.vanderbilt.edu/plots?dataset=13&colsLg=3&colsMd=2&plotdata=plotType%3Ddrc%26datasetId%3D13%26dataset2Id%3D%26useCellLineTags%3Doff%26c%3D8%26c%3D9%26c%3D10%26c%3D11%26c%3D12%26c%3D17%26c%3D18%26useDrugTags%3Doff%26d%3D5%26colorBy%3Doff%26drMetric%3Ddip%26drcType%3Drel&plotdata=plotType%3Ddrc%26datasetId%3D13%26dataset2Id%3D%26useCellLineTags%3Doff%26c%3D8%26c%3D9%26c%3D10%26c%3D11%26c%3D12%26c%3D17%26c%3D18%26useDrugTags%3Doff%26d%3D5%26colorBy%3Doff%26drMetric%3Dviability%26drcType%3Drel) and compare the responses of all cell lines to afatinib using DIP rate or 72 h viability as the effect metric.\n",
    "\n",
    "Task 2) Complete all tasks within this notebook  \n",
    "\n",
    "Task 3) Edit and submit the Quiz.md file in your assigment repository (you will need to refer to thunor@VU and this notebook).  "
   ]
  },
  {
   "cell_type": "code",
   "execution_count": null,
   "metadata": {
    "id": "khJP1y9J-PFx"
   },
   "outputs": [],
   "source": [
    "try:\n",
    "  import google.colab\n",
    "  IN_COLAB = True\n",
    "except:\n",
    "  IN_COLAB = False\n",
    "\n",
    "if IN_COLAB:\n",
    "    try:\n",
    "        import thunor\n",
    "    except:\n",
    "        !pip install thunor"
   ]
  },
  {
   "cell_type": "code",
   "execution_count": null,
   "metadata": {
    "id": "S7arIb5p6j5v"
   },
   "outputs": [],
   "source": [
    "import os\n",
    "import pandas as pd\n",
    "import numpy as np\n",
    "import scipy.optimize as opt\n",
    "import matplotlib.pyplot as plt\n",
    "import seaborn as sns\n",
    "import thunor\n",
    "from thunor.io import read_hdf\n",
    "from thunor.dip import dip_rates\n",
    "from thunor.curve_fit import fit_params\n",
    "%matplotlib inline"
   ]
  },
  {
   "cell_type": "markdown",
   "metadata": {
    "id": "OEqLRV9i6j5v"
   },
   "source": [
    "#### Define model functions"
   ]
  },
  {
   "cell_type": "code",
   "execution_count": null,
   "metadata": {
    "id": "xLwsKFPX6j5v"
   },
   "outputs": [],
   "source": [
    "def ll4(x,h,E0,Emax,EC50):\n",
    "    '''\n",
    "    Reformulation of the LL4 function\n",
    "     - h: Hill coefficient\n",
    "     - E0: no-drug effect\n",
    "     - Emax: max effect\n",
    "     - EC50: Concentration at midpoint between E0 and Emax\n",
    "     '''\n",
    "    return(Emax + (E0-Emax) / (1+np.exp(h*(np.log(x/EC50)))) )\n",
    "\n",
    "def ll3(x,b,d,e):\n",
    "    '''\n",
    "    3-parameter log-logistic function with no/minimal effect set to a value of 1\n",
    "     - b: Hill coefficient\n",
    "     - d: Emax\n",
    "     - e: EC50\n",
    "     '''\n",
    "    return(d + (1-d) / ( 1+np.exp( b*np.log(x/e)) ) )"
   ]
  },
  {
   "cell_type": "markdown",
   "metadata": {
    "id": "rsr7s8lF6j5w"
   },
   "source": [
    "#### Load all PC9 data using Thunor"
   ]
  },
  {
   "cell_type": "code",
   "execution_count": null,
   "metadata": {
    "id": "XNV4lefh6j5w"
   },
   "outputs": [],
   "source": [
    "if IN_COLAB and not os.path.exists(\"./data/HTS001.h5\"):\n",
    "    if not os.path.exists(\"./data\"):\n",
    "        !mkdir data\n",
    "    !wget -O ./data/HTS001.h5 https://github.com/VU-CSP/quantbio-assignments/raw/main/data/HTS001.h5\n",
    "    \n"
   ]
  },
  {
   "cell_type": "markdown",
   "metadata": {
    "id": "4vfqV7ej_u4G"
   },
   "source": [
    "#### Description of HTS001.h5 dataset  \n",
    "\n",
    "* PC9 lung adenocarcinoma cell line and six PC9 variants, each treated with 14 different drugs\n",
    "* All cell lines were genetically modified to express a nuclear-localized fluorescent protein (H2BmRFP) and assessed by live-cell fluorescence microscopy in multiwell plates\n",
    "* No cell death indicator was used in these experiments (i.e., some of the cell counts may be of dead cells that retained fluorescent nuclear signal)"
   ]
  },
  {
   "cell_type": "code",
   "execution_count": null,
   "metadata": {
    "colab": {
     "base_uri": "https://localhost:8080/"
    },
    "id": "AGPMg7hx_veF",
    "outputId": "ad9f8491-f9aa-4ee9-8000-3a26ff92ddcb"
   },
   "outputs": [],
   "source": [
    "hts001 = read_hdf(\"./data/HTS001.h5\")\n",
    "hts001"
   ]
  },
  {
   "cell_type": "markdown",
   "metadata": {
    "id": "lD-ZAmZG6j5x"
   },
   "source": [
    "### Calculate DIP rates and fit parameters for all conditions using Thunor"
   ]
  },
  {
   "cell_type": "code",
   "execution_count": null,
   "metadata": {
    "colab": {
     "base_uri": "https://localhost:8080/"
    },
    "id": "Pg6FhXEpu3R9",
    "outputId": "bd1217bb-176b-4452-c02a-5b852542f9cc"
   },
   "outputs": [],
   "source": [
    "ctrl_diprates, expt_diprates = dip_rates(hts001)\n",
    "fit_p = fit_params(ctrl_diprates, expt_diprates)"
   ]
  },
  {
   "cell_type": "markdown",
   "metadata": {
    "id": "uplmof9Tv0ck"
   },
   "source": [
    "### Examine the fit parameters using `head()`"
   ]
  },
  {
   "cell_type": "code",
   "execution_count": null,
   "metadata": {
    "colab": {
     "base_uri": "https://localhost:8080/",
     "height": 364
    },
    "id": "JUbfwkyCv2bV",
    "outputId": "2a28f204-8d9c-48ba-a62d-f9ee03572c0b"
   },
   "outputs": [],
   "source": [
    "fit_p.head()"
   ]
  },
  {
   "cell_type": "markdown",
   "metadata": {
    "id": "E0_0fUk_X_9X"
   },
   "source": [
    "### Download DIP rate data (automatically fit to time course data by Thunor)"
   ]
  },
  {
   "cell_type": "code",
   "execution_count": null,
   "metadata": {
    "colab": {
     "base_uri": "https://localhost:8080/",
     "height": 204
    },
    "id": "92FYfjGFP9ev",
    "outputId": "4ffbd7c2-a63c-4be8-a837-57696372d5a3"
   },
   "outputs": [],
   "source": [
    "if not os.path.exists(\"./data/hts001_diprates.tsv\"):\n",
    "    !wget -O \"./data/hts001_diprates.tsv\" https://thunor.app.vanderbilt.edu/dataset/13/download/dip_rates\n",
    "\n",
    "hts001_diprates = pd.read_csv(\"./data/hts001_diprates.tsv\", sep='\\t')\n",
    "hts001_diprates.rename(columns={'cell.line': 'cell_line', 'drug1':'drug', 'drug1.conc':'conc'}, inplace=True)\n",
    "hts001_diprates.head()\n"
   ]
  },
  {
   "cell_type": "markdown",
   "metadata": {
    "id": "cxSLbyxaPyIP"
   },
   "source": [
    "### Extract only cell count data from afatinib treatment\n",
    "Start from full dataset (`hts001`)"
   ]
  },
  {
   "cell_type": "code",
   "execution_count": null,
   "metadata": {
    "colab": {
     "base_uri": "https://localhost:8080/"
    },
    "id": "IoZn209SQEdI",
    "outputId": "56f376d0-4ec9-4ae1-a7fb-0aabdae823ba"
   },
   "outputs": [],
   "source": [
    "afat = hts001.filter(drugs=['afatinib'])\n",
    "afat"
   ]
  },
  {
   "cell_type": "markdown",
   "metadata": {
    "id": "BVr5Fnj-Y2J_"
   },
   "source": [
    "### Load thunor plotting functions"
   ]
  },
  {
   "cell_type": "code",
   "execution_count": null,
   "metadata": {
    "id": "2Jh8ZomUQtDb"
   },
   "outputs": [],
   "source": [
    "from thunor.plots import plot_drc, plot_drc_params, plot_time_course, plot_ctrl_dip_by_plate, plot_plate_map\n"
   ]
  },
  {
   "cell_type": "markdown",
   "metadata": {
    "id": "bN48jA7dYcDY"
   },
   "source": [
    "### Filter fit parameters for all cell lines treated with afatinib, and plot dose–response curves"
   ]
  },
  {
   "cell_type": "code",
   "execution_count": null,
   "metadata": {
    "colab": {
     "base_uri": "https://localhost:8080/",
     "height": 417
    },
    "id": "rci_WQEttrZd",
    "outputId": "7158d077-7279-451c-ffbd-c005e9e6ef9c"
   },
   "outputs": [],
   "source": [
    "fit_p_afat = fit_p[fit_p.index.isin(['afatinib'], level='drug')]\n",
    "fig = plot_drc(fit_p_afat)\n",
    "fig.update_layout(\n",
    "    autosize=False,\n",
    "    width=400,\n",
    "    height=400,)"
   ]
  },
  {
   "cell_type": "markdown",
   "metadata": {
    "id": "-dmfJorfZD3N"
   },
   "source": [
    "### Filter fit parameters by cell line (`BR1`) and drug (`paclitaxel`)\n",
    "and display result"
   ]
  },
  {
   "cell_type": "code",
   "execution_count": null,
   "metadata": {
    "colab": {
     "base_uri": "https://localhost:8080/",
     "height": 111
    },
    "id": "exubzfztuLpd",
    "outputId": "845a9133-c438-4782-88af-d1d0ff79af25"
   },
   "outputs": [],
   "source": [
    "fp_br1_pacl = fit_p[fit_p.index.isin(['BR1'], level='cell_line') & \\\n",
    "               fit_p.index.isin(['paclitaxel'], level='drug')]\n",
    "fp_br1_pacl"
   ]
  },
  {
   "cell_type": "markdown",
   "metadata": {
    "id": "FFJq-8AtO4E1"
   },
   "source": [
    "### Show the result of Thunor-fit DIP rates\n",
    "Saved in `expt_diprates`"
   ]
  },
  {
   "cell_type": "code",
   "execution_count": null,
   "metadata": {
    "colab": {
     "base_uri": "https://localhost:8080/",
     "height": 450
    },
    "id": "EliKZH68CE1Y",
    "outputId": "ef58b4fb-cb38-4ed4-b957-f1efbb244b0d"
   },
   "outputs": [],
   "source": [
    "expt_diprates"
   ]
  },
  {
   "cell_type": "markdown",
   "metadata": {
    "id": "0TaML9g5PHgY"
   },
   "source": [
    "### Filter DIP rates by cell line (`BR1`) and drug (`paclitaxel`)"
   ]
  },
  {
   "cell_type": "code",
   "execution_count": null,
   "metadata": {
    "colab": {
     "base_uri": "https://localhost:8080/",
     "height": 450
    },
    "id": "Xur3lXkaCcmw",
    "outputId": "7ee6b4c1-582d-4f6b-d844-cdba88a16f0a"
   },
   "outputs": [],
   "source": [
    "expt_diprates[expt_diprates.index.isin(['BR1'], level='cell_line')]"
   ]
  },
  {
   "cell_type": "code",
   "execution_count": null,
   "metadata": {
    "id": "pPWd7RcSqi-U"
   },
   "outputs": [],
   "source": [
    "br1_afat = afat.filter(cell_lines=['BR1'])"
   ]
  },
  {
   "cell_type": "markdown",
   "metadata": {
    "id": "QT0ntlpeTACo"
   },
   "source": [
    "### Plot the time course data of afatinib on BR1 cells\n",
    "Use `log_yaxis=True` to plot population doublings."
   ]
  },
  {
   "cell_type": "code",
   "execution_count": null,
   "metadata": {
    "colab": {
     "base_uri": "https://localhost:8080/",
     "height": 417
    },
    "id": "r8cpivoutCVg",
    "outputId": "cb93148f-3409-4a02-d94d-3fb724105cd1"
   },
   "outputs": [],
   "source": [
    "fig = plot_time_course(br1_afat, log_yaxis=True)\n",
    "fig.update_layout(\n",
    "    autosize=False,\n",
    "    width=400,\n",
    "    height=400,)"
   ]
  },
  {
   "cell_type": "markdown",
   "metadata": {
    "id": "9qEn2v8uSPOH"
   },
   "source": [
    "### Writing and reading cell count data using Vanderbilt's HTS format\n",
    "To faciltate executing Python code, we will replace the `.` in column names with `_`."
   ]
  },
  {
   "cell_type": "code",
   "execution_count": null,
   "metadata": {
    "colab": {
     "base_uri": "https://localhost:8080/",
     "height": 204
    },
    "id": "GOasPqwO6j5y",
    "outputId": "be130f8e-e148-42e3-ac35-98108c9dd8ef"
   },
   "outputs": [],
   "source": [
    "from pandas.io.parsers.readers import read_csv\n",
    "if not os.path.exists(\"./data/afatinib.csv\"):\n",
    "    thunor.io.write_vanderbilt_hts(afat, filename=\"./data/afatinib.csv\")\n",
    "a = read_csv(\"./data/afatinib.csv\")\n",
    "a.rename(columns={'cell.line': 'cell_line', 'cell.count': 'cell_count', 'drug1.conc': 'drug1_conc', 'drug1.units': 'drug1_units'}, inplace=True)\n",
    "a.head()\n"
   ]
  },
  {
   "cell_type": "markdown",
   "metadata": {
    "id": "2cPtbROeRY57"
   },
   "source": [
    "### Assemble basic DataFrame of DIP rates of control and paclitaxel-treated BR1 cells\n"
   ]
  },
  {
   "cell_type": "code",
   "execution_count": null,
   "metadata": {
    "colab": {
     "base_uri": "https://localhost:8080/"
    },
    "id": "hff1tpp6Mcw6",
    "outputId": "16a6a095-5d6b-44f9-9971-9c3a1eaa9b4d"
   },
   "outputs": [],
   "source": [
    "diprates_br1_pacl = hts001_diprates[np.isin(hts001_diprates['drug'], ['paclitaxel']) ]\n",
    "diprates_br1_pacl = diprates_br1_pacl[diprates_br1_pacl['cell_line'] == 'BR1']\n",
    "# add control diprates\n",
    "br1_diprates_ctrl = hts001_diprates[np.logical_and(hts001_diprates['conc'].isna(), hts001_diprates['cell_line']=='BR1')]\n",
    "diprates_br1_pacl = diprates_br1_pacl.append(br1_diprates_ctrl)\n"
   ]
  },
  {
   "cell_type": "markdown",
   "metadata": {
    "id": "HPnIPXBsTalD"
   },
   "source": [
    "### Add log10([drug]) values to facilitate manual plotting"
   ]
  },
  {
   "cell_type": "code",
   "execution_count": null,
   "metadata": {
    "colab": {
     "base_uri": "https://localhost:8080/",
     "height": 204
    },
    "id": "KJNJPynIVlsz",
    "outputId": "f30955fa-6d85-4df6-80e8-243ba81db102"
   },
   "outputs": [],
   "source": [
    "l10_conc = np.log10(diprates_br1_pacl['conc'][diprates_br1_pacl['conc'].notna()])\n",
    "min_conc = min(l10_conc)-1\n",
    "n_ctrl_wells = len( diprates_br1_pacl['conc'][diprates_br1_pacl['conc'].isna()])\n",
    "l10_conc = np.append(l10_conc,np.repeat(min_conc,n_ctrl_wells))\n",
    "diprates_br1_pacl['l10_conc'] = l10_conc\n",
    "diprates_br1_pacl.head()"
   ]
  },
  {
   "cell_type": "markdown",
   "metadata": {
    "id": "1dnCbIvOTutf"
   },
   "source": [
    "### Calculate response ratio of DIP rates\n",
    "Divide all DIP rate values by the mean of the control values"
   ]
  },
  {
   "cell_type": "code",
   "execution_count": null,
   "metadata": {
    "id": "iLGN0Ki3cnUA"
   },
   "outputs": [],
   "source": [
    "diprates_br1_pacl[\"resp_ratio\"] = diprates_br1_pacl[\"dip_rate\"] / diprates_br1_pacl[diprates_br1_pacl[\"conc\"].isnull()][\"dip_rate\"].mean()"
   ]
  },
  {
   "cell_type": "markdown",
   "metadata": {
    "id": "Xh3_KSQ3e9ru"
   },
   "source": [
    "### Show the structure of the DataFrame"
   ]
  },
  {
   "cell_type": "code",
   "execution_count": null,
   "metadata": {
    "colab": {
     "base_uri": "https://localhost:8080/",
     "height": 1000
    },
    "id": "AZTZEtvPdAqI",
    "outputId": "5aec6982-ed73-4a6e-b907-2cd19e23a7d2"
   },
   "outputs": [],
   "source": [
    "diprates_br1_pacl"
   ]
  },
  {
   "cell_type": "markdown",
   "metadata": {
    "id": "l3rROG4NfFdZ"
   },
   "source": [
    "### Plot the DIP rate values of BR1 cells treated with paclitaxel using Seaborn"
   ]
  },
  {
   "cell_type": "code",
   "execution_count": null,
   "metadata": {
    "colab": {
     "base_uri": "https://localhost:8080/",
     "height": 386
    },
    "id": "3qyXL0sFUPK5",
    "outputId": "4c9aca04-ed2f-4832-887a-f9c6878f2497"
   },
   "outputs": [],
   "source": [
    "sns.lmplot(x='l10_conc', y='dip_rate', data=diprates_br1_pacl, fit_reg=False)"
   ]
  },
  {
   "cell_type": "markdown",
   "metadata": {
    "id": "w1RHibjn6j5y"
   },
   "source": [
    "#### Perform nonlinear regression on data using the `ll4` model  \n",
    "Let's first look at each of the dates independently to assess consistency.  \n",
    "#### Use `scipy.optimize.curve_fit` to perform nonlinear regression (fit model parameters)  \n"
   ]
  },
  {
   "cell_type": "code",
   "execution_count": null,
   "metadata": {
    "colab": {
     "base_uri": "https://localhost:8080/"
    },
    "id": "nbp-FmtwYWYV",
    "outputId": "6b39f447-e067-4c78-bb35-4ed6ed5a57a2"
   },
   "outputs": [],
   "source": [
    "fitCoefs, covMatrix = opt.curve_fit(ll4, \n",
    "                                    10**(diprates_br1_pacl['l10_conc']), \n",
    "                                    diprates_br1_pacl['dip_rate'],\n",
    "                                    p0=[1,\n",
    "                                        np.max(diprates_br1_pacl['dip_rate']),\n",
    "                                        np.min(diprates_br1_pacl['dip_rate']), \n",
    "                                        1e-9])\n",
    "fitCoefs"
   ]
  },
  {
   "cell_type": "markdown",
   "metadata": {
    "id": "ud9_lflbZLDr"
   },
   "source": [
    "# TASK\n",
    "\n",
    "What is the value that represents the $EC_{50}$ of paclitaxel's effects on BR1 cells? Copy it and save as the answer to Quiz question #6."
   ]
  },
  {
   "cell_type": "markdown",
   "metadata": {
    "id": "6djHmEe2UZ40"
   },
   "source": [
    "### NOTE: Values from paclitaxel of ~6.2e-8 M were found to be artifactual\n",
    "Drug concentration at this value is inaccurate. Data can be removed to allow more accurate fitting of dose-response model"
   ]
  },
  {
   "cell_type": "code",
   "execution_count": null,
   "metadata": {
    "id": "HzmXGZlUJgG5"
   },
   "outputs": [],
   "source": [
    "# remove artifact points\n",
    "diprates_br1_pacl_drop62 = diprates_br1_pacl[np.logical_or(diprates_br1_pacl['conc'] < 2e-8, diprates_br1_pacl['conc'] > 7e-8)]"
   ]
  },
  {
   "cell_type": "markdown",
   "metadata": {
    "id": "hv7q1rLRV52C"
   },
   "source": [
    "# TASK\n",
    "### Fit the cleaned data with the `ll4` model\n",
    "NOTE: to get the model to fit you may need some starting parameters (`p0`)"
   ]
  },
  {
   "cell_type": "code",
   "execution_count": null,
   "metadata": {
    "colab": {
     "base_uri": "https://localhost:8080/"
    },
    "id": "5vTCa3O_ilGJ",
    "outputId": "f97fd921-b369-42ba-8297-6058b86605e4"
   },
   "outputs": [],
   "source": []
  },
  {
   "cell_type": "code",
   "execution_count": null,
   "metadata": {
    "id": "z-foKIdsaO_X"
   },
   "outputs": [],
   "source": [
    "fitCoefs_dropped, covMatrix_dropped = 0,0  # Put your code here (replace the 0,0 values)\n",
    "\n",
    "fitCoefs_dropped  # show the values of the fit parameters; leave this line in"
   ]
  },
  {
   "cell_type": "markdown",
   "metadata": {
    "id": "M-yAXIuzWWZJ"
   },
   "source": [
    "# TASK\n",
    "\n",
    "Copy the value that represents the corrected $EC_{50}$ of paclitaxel's effects on BR1 cells and save as the answer to Quiz question #7."
   ]
  },
  {
   "cell_type": "markdown",
   "metadata": {
    "id": "jxhb_Ly96j5y"
   },
   "source": [
    "#### Plot the data and predicted model fits using Seaborn\n",
    "NOTE: You will see two curves if you properly fit the cleaned data with the `ll4` model and saved the fit parameters in `fitCoefs_dropped`  "
   ]
  },
  {
   "cell_type": "code",
   "execution_count": null,
   "metadata": {
    "colab": {
     "base_uri": "https://localhost:8080/",
     "height": 386
    },
    "id": "UK4klnJbZlpx",
    "outputId": "bc1e63d5-7197-48da-98b7-cf18d4e94260"
   },
   "outputs": [],
   "source": [
    "myconc = np.linspace(-12,-5,100)\n",
    "sns.lmplot(x='l10_conc', y='dip_rate', data=diprates_br1_pacl, fit_reg=False)\n",
    "if type(fitCoefs_dropped)!=int:\n",
    "    sns.lineplot(x=myconc, y=[ll4(x, *fitCoefs_dropped) for x in 10**myconc], legend=False)\n",
    "sns.lineplot(x=myconc, y=[ll4(x, *fitCoefs) for x in 10**myconc], legend=False, hue=2)"
   ]
  },
  {
   "cell_type": "markdown",
   "metadata": {
    "id": "MfIG6Kno6j5z"
   },
   "source": [
    "#### Perform nonlinear regression on data using `ll3` model  \n",
    "Use `resp_ratio` values. \n"
   ]
  },
  {
   "cell_type": "code",
   "execution_count": null,
   "metadata": {
    "colab": {
     "base_uri": "https://localhost:8080/"
    },
    "id": "3Ue2Rwp56j5z",
    "outputId": "c74b880e-c3b3-45c4-b6c9-26d0934521bd"
   },
   "outputs": [],
   "source": [
    "fitCoefs_ratio, covMatrix_ratio = opt.curve_fit(ll3, 10**(diprates_br1_pacl_drop62['l10_conc']), \n",
    "                                    diprates_br1_pacl_drop62['resp_ratio'])\n",
    "fitCoefs_ratio"
   ]
  },
  {
   "cell_type": "markdown",
   "metadata": {
    "id": "kBVmg7djf8xr"
   },
   "source": [
    "# Task\n",
    "What is the $E_{max}$ value from the `ll3` model parameters fit to response ratios of BR1 + paclitaxel? Copy it and save the answer to Quiz question #8. "
   ]
  },
  {
   "cell_type": "markdown",
   "metadata": {
    "id": "rDTanbu5uQ-9"
   },
   "source": [
    "#### Plot the data and predicted model fits using Seaborn"
   ]
  },
  {
   "cell_type": "code",
   "execution_count": null,
   "metadata": {
    "colab": {
     "base_uri": "https://localhost:8080/",
     "height": 373
    },
    "id": "v5Xn-Q566j5z",
    "outputId": "f2839509-c34b-48ed-cd28-66e5230fc931"
   },
   "outputs": [],
   "source": [
    "a = sns.lmplot(x='l10_conc', y='resp_ratio', data=diprates_br1_pacl_drop62, fit_reg=False)\n",
    "a.set(ylim=(-1, 1.25))\n",
    "l = sns.lineplot(x=[i for i in myconc], y=[ll3(10**i,*fitCoefs_ratio) for i in myconc], legend=False)"
   ]
  },
  {
   "cell_type": "code",
   "execution_count": null,
   "metadata": {
    "colab": {
     "base_uri": "https://localhost:8080/"
    },
    "id": "LGkZX0_HbKw8",
    "outputId": "7ced0386-93fa-4ea0-d93c-d4538a2da176"
   },
   "outputs": [],
   "source": [
    "print(f\"The EC50 of paclitaxel on BR1 cells is {np.round(fitCoefs_ratio[2]*1e9,3)} nM\")"
   ]
  },
  {
   "cell_type": "code",
   "execution_count": null,
   "metadata": {
    "id": "PFE-dblWbkWk"
   },
   "outputs": [],
   "source": []
  }
 ],
 "metadata": {
  "colab": {
   "include_colab_link": true,
   "provenance": []
  },
  "kernelspec": {
   "display_name": "thunor",
   "language": "python",
   "name": "thunor"
  },
  "language_info": {
   "codemirror_mode": {
    "name": "ipython",
    "version": 3
   },
   "file_extension": ".py",
   "mimetype": "text/x-python",
   "name": "python",
   "nbconvert_exporter": "python",
   "pygments_lexer": "ipython3",
   "version": "3.9.16"
  }
 },
 "nbformat": 4,
 "nbformat_minor": 4
}
